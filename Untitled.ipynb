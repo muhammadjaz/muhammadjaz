{
 "cells": [
  {
   "cell_type": "code",
   "execution_count": 1,
   "id": "c369014e",
   "metadata": {},
   "outputs": [
    {
     "name": "stdout",
     "output_type": "stream",
     "text": [
      "Hello word\n"
     ]
    }
   ],
   "source": [
    "print(\"Hello word\")"
   ]
  },
  {
   "cell_type": "code",
   "execution_count": 3,
   "id": "282eb0b0",
   "metadata": {},
   "outputs": [
    {
     "name": "stdout",
     "output_type": "stream",
     "text": [
      "Twinkle,twinkle,little star\n",
      "        How I wonder what you are!\n",
      "              Up above the world so high,\n",
      "              Like a diamond in the sky.\n",
      "Twinkle,twinkle, little star,\n",
      "        How I wonder what you are\n"
     ]
    }
   ],
   "source": [
    "print(\"Twinkle,twinkle,little star\\n        How I wonder what you are!\\n              Up above the world so high,\\n              Like a diamond in the sky.\\nTwinkle,twinkle, little star,\\n        How I wonder what you are\");"
   ]
  },
  {
   "cell_type": "code",
   "execution_count": 4,
   "id": "8135a7a7",
   "metadata": {},
   "outputs": [
    {
     "name": "stdout",
     "output_type": "stream",
     "text": [
      "3.9.7 (default, Sep 16 2021, 16:59:28) [MSC v.1916 64 bit (AMD64)]\n"
     ]
    }
   ],
   "source": [
    "import sys\n",
    "print(sys.version)"
   ]
  },
  {
   "cell_type": "code",
   "execution_count": 7,
   "id": "048d9bb7",
   "metadata": {},
   "outputs": [
    {
     "name": "stdout",
     "output_type": "stream",
     "text": [
      "2022-01-01 22:07:34\n"
     ]
    }
   ],
   "source": [
    "from datetime import datetime\n",
    "now=datetime.now()\n",
    "print(now.strftime(\"%Y-%m-%d %H:%M:%S\"))"
   ]
  },
  {
   "cell_type": "code",
   "execution_count": 8,
   "id": "8f29640a",
   "metadata": {},
   "outputs": [
    {
     "name": "stdout",
     "output_type": "stream",
     "text": [
      "Enter the radius of a circle: 3\n",
      "Area of a circle =28.27\n"
     ]
    }
   ],
   "source": [
    "import math\n",
    "r=float(input(\"Enter the radius of a circle: \"));\n",
    "area=math.pi*r*r\n",
    "print(\"Area of a circle =%.2f\"%area)"
   ]
  },
  {
   "cell_type": "code",
   "execution_count": 10,
   "id": "622694a6",
   "metadata": {},
   "outputs": [
    {
     "name": "stdout",
     "output_type": "stream",
     "text": [
      "11\n"
     ]
    }
   ],
   "source": [
    "a=4;\n",
    "b=7;\n",
    "c=a+b;\n",
    "print(c);"
   ]
  },
  {
   "cell_type": "code",
   "execution_count": 13,
   "id": "798b91ce",
   "metadata": {},
   "outputs": [
    {
     "name": "stdout",
     "output_type": "stream",
     "text": [
      "ijaz ahmad\n"
     ]
    }
   ],
   "source": [
    "a=\"ijaz\";\n",
    "b=\" ahmad\";\n",
    "c=a+b;\n",
    "print(c);"
   ]
  },
  {
   "cell_type": "code",
   "execution_count": 16,
   "id": "79163c50",
   "metadata": {},
   "outputs": [
    {
     "name": "stdout",
     "output_type": "stream",
     "text": [
      "4  2\n"
     ]
    }
   ],
   "source": [
    "a=\"4\";\n",
    "b=\"  2\";\n",
    "c=a+b;\n",
    "print(c);"
   ]
  },
  {
   "cell_type": "code",
   "execution_count": null,
   "id": "0a013280",
   "metadata": {},
   "outputs": [],
   "source": []
  }
 ],
 "metadata": {
  "kernelspec": {
   "display_name": "Python 3 (ipykernel)",
   "language": "python",
   "name": "python3"
  },
  "language_info": {
   "codemirror_mode": {
    "name": "ipython",
    "version": 3
   },
   "file_extension": ".py",
   "mimetype": "text/x-python",
   "name": "python",
   "nbconvert_exporter": "python",
   "pygments_lexer": "ipython3",
   "version": "3.9.7"
  }
 },
 "nbformat": 4,
 "nbformat_minor": 5
}
